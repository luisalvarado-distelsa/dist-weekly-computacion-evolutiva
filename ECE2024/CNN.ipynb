{
  "cells": [
    {
      "cell_type": "markdown",
      "metadata": {
        "id": "50Vk25I2UANC"
      },
      "source": [
        "# **Escuela de Cómputo Evolutivo 2024**\n",
        "## 16-18 de octubre\n",
        "\n",
        "# Tutorial: NAS con EAs\n",
        "\n",
        "## **Ejercicios**\n",
        "1. Implementar el NSGA-II en pymoo para resolver una función de prueba tradicional.\n",
        "2. Implementar una red convolucional para la clasificación de la base de datos del MNIST.\n",
        "3. Implementar la búsqueda de arquitecturas neuronales con el NSGA-II aplicado al problema del MNIST.\n",
        "\n"
      ]
    },
    {
      "cell_type": "markdown",
      "metadata": {
        "id": "1kamWv3XUa_J"
      },
      "source": [
        "## Ejercicio 1:\n",
        "\n",
        "**Objetivo:** Familiarizarse con la libería pymoo y cómo resolver problemas de optimización con esta librería\n",
        "\n",
        "Implementar el algoritmo del NSGA-II en pymoo para resolver un problema de optimización.\n",
        "\n",
        "En este primer ejercicio, se usará una función de prueba bien conocida, la ZDT2. La función ZDT2 está definida como:\n",
        "\n",
        "$$\n",
        "\\begin{array}{ll}\n",
        "f_1(x) &= x_1 \\\\\n",
        "g(x) &=  1 + \\frac{9}{n-1} \\sum_{i=2}^{n} x_i\\\\\n",
        "f_2(x) &= 1 - \\left(f_1 (x)/ g(x)\\right)^2\n",
        "\\end{array}\n",
        "$$"
      ]
    },
    {
      "cell_type": "code",
      "execution_count": null,
      "metadata": {
        "colab": {
          "base_uri": "https://localhost:8080/"
        },
        "id": "hgYnPcZpT9-m",
        "outputId": "48225fa5-e03d-4c03-aaef-5bfb9be35acc"
      },
      "outputs": [
        {
          "output_type": "stream",
          "name": "stdout",
          "text": [
            "Collecting pymoo\n",
            "  Downloading pymoo-0.6.1.3-cp310-cp310-manylinux_2_17_x86_64.manylinux2014_x86_64.whl.metadata (5.0 kB)\n",
            "Requirement already satisfied: numpy>=1.15 in /usr/local/lib/python3.10/dist-packages (from pymoo) (1.26.4)\n",
            "Requirement already satisfied: scipy>=1.1 in /usr/local/lib/python3.10/dist-packages (from pymoo) (1.13.1)\n",
            "Requirement already satisfied: matplotlib>=3 in /usr/local/lib/python3.10/dist-packages (from pymoo) (3.7.1)\n",
            "Requirement already satisfied: autograd>=1.4 in /usr/local/lib/python3.10/dist-packages (from pymoo) (1.7.0)\n",
            "Collecting cma==3.2.2 (from pymoo)\n",
            "  Downloading cma-3.2.2-py2.py3-none-any.whl.metadata (8.0 kB)\n",
            "Collecting alive-progress (from pymoo)\n",
            "  Downloading alive_progress-3.1.5-py3-none-any.whl.metadata (68 kB)\n",
            "\u001b[2K     \u001b[90m━━━━━━━━━━━━━━━━━━━━━━━━━━━━━━━━━━━━━━━━\u001b[0m \u001b[32m68.4/68.4 kB\u001b[0m \u001b[31m4.1 MB/s\u001b[0m eta \u001b[36m0:00:00\u001b[0m\n",
            "\u001b[?25hCollecting dill (from pymoo)\n",
            "  Downloading dill-0.3.9-py3-none-any.whl.metadata (10 kB)\n",
            "Requirement already satisfied: Deprecated in /usr/local/lib/python3.10/dist-packages (from pymoo) (1.2.14)\n",
            "Requirement already satisfied: contourpy>=1.0.1 in /usr/local/lib/python3.10/dist-packages (from matplotlib>=3->pymoo) (1.3.0)\n",
            "Requirement already satisfied: cycler>=0.10 in /usr/local/lib/python3.10/dist-packages (from matplotlib>=3->pymoo) (0.12.1)\n",
            "Requirement already satisfied: fonttools>=4.22.0 in /usr/local/lib/python3.10/dist-packages (from matplotlib>=3->pymoo) (4.54.1)\n",
            "Requirement already satisfied: kiwisolver>=1.0.1 in /usr/local/lib/python3.10/dist-packages (from matplotlib>=3->pymoo) (1.4.7)\n",
            "Requirement already satisfied: packaging>=20.0 in /usr/local/lib/python3.10/dist-packages (from matplotlib>=3->pymoo) (24.1)\n",
            "Requirement already satisfied: pillow>=6.2.0 in /usr/local/lib/python3.10/dist-packages (from matplotlib>=3->pymoo) (10.4.0)\n",
            "Requirement already satisfied: pyparsing>=2.3.1 in /usr/local/lib/python3.10/dist-packages (from matplotlib>=3->pymoo) (3.1.4)\n",
            "Requirement already satisfied: python-dateutil>=2.7 in /usr/local/lib/python3.10/dist-packages (from matplotlib>=3->pymoo) (2.8.2)\n",
            "Collecting about-time==4.2.1 (from alive-progress->pymoo)\n",
            "  Downloading about_time-4.2.1-py3-none-any.whl.metadata (13 kB)\n",
            "Collecting grapheme==0.6.0 (from alive-progress->pymoo)\n",
            "  Downloading grapheme-0.6.0.tar.gz (207 kB)\n",
            "\u001b[2K     \u001b[90m━━━━━━━━━━━━━━━━━━━━━━━━━━━━━━━━━━━━━━━━\u001b[0m \u001b[32m207.3/207.3 kB\u001b[0m \u001b[31m6.3 MB/s\u001b[0m eta \u001b[36m0:00:00\u001b[0m\n",
            "\u001b[?25h  Preparing metadata (setup.py) ... \u001b[?25l\u001b[?25hdone\n",
            "Requirement already satisfied: wrapt<2,>=1.10 in /usr/local/lib/python3.10/dist-packages (from Deprecated->pymoo) (1.16.0)\n",
            "Requirement already satisfied: six>=1.5 in /usr/local/lib/python3.10/dist-packages (from python-dateutil>=2.7->matplotlib>=3->pymoo) (1.16.0)\n",
            "Downloading pymoo-0.6.1.3-cp310-cp310-manylinux_2_17_x86_64.manylinux2014_x86_64.whl (4.2 MB)\n",
            "\u001b[2K   \u001b[90m━━━━━━━━━━━━━━━━━━━━━━━━━━━━━━━━━━━━━━━━\u001b[0m \u001b[32m4.2/4.2 MB\u001b[0m \u001b[31m11.4 MB/s\u001b[0m eta \u001b[36m0:00:00\u001b[0m\n",
            "\u001b[?25hDownloading cma-3.2.2-py2.py3-none-any.whl (249 kB)\n",
            "\u001b[2K   \u001b[90m━━━━━━━━━━━━━━━━━━━━━━━━━━━━━━━━━━━━━━━━\u001b[0m \u001b[32m249.1/249.1 kB\u001b[0m \u001b[31m4.9 MB/s\u001b[0m eta \u001b[36m0:00:00\u001b[0m\n",
            "\u001b[?25hDownloading alive_progress-3.1.5-py3-none-any.whl (75 kB)\n",
            "\u001b[2K   \u001b[90m━━━━━━━━━━━━━━━━━━━━━━━━━━━━━━━━━━━━━━━━\u001b[0m \u001b[32m76.0/76.0 kB\u001b[0m \u001b[31m4.1 MB/s\u001b[0m eta \u001b[36m0:00:00\u001b[0m\n",
            "\u001b[?25hDownloading about_time-4.2.1-py3-none-any.whl (13 kB)\n",
            "Downloading dill-0.3.9-py3-none-any.whl (119 kB)\n",
            "\u001b[2K   \u001b[90m━━━━━━━━━━━━━━━━━━━━━━━━━━━━━━━━━━━━━━━━\u001b[0m \u001b[32m119.4/119.4 kB\u001b[0m \u001b[31m3.0 MB/s\u001b[0m eta \u001b[36m0:00:00\u001b[0m\n",
            "\u001b[?25hBuilding wheels for collected packages: grapheme\n",
            "  Building wheel for grapheme (setup.py) ... \u001b[?25l\u001b[?25hdone\n",
            "  Created wheel for grapheme: filename=grapheme-0.6.0-py3-none-any.whl size=210082 sha256=6245c8996f26ec59833f6a17ff6af96123cb91fdebd7121b00d68a0bc2fc1cbc\n",
            "  Stored in directory: /root/.cache/pip/wheels/01/e1/49/37e6bde9886439057450c494a79b0bef8bbe897a54aebfc757\n",
            "Successfully built grapheme\n",
            "Installing collected packages: grapheme, dill, cma, about-time, alive-progress, pymoo\n",
            "Successfully installed about-time-4.2.1 alive-progress-3.1.5 cma-3.2.2 dill-0.3.9 grapheme-0.6.0 pymoo-0.6.1.3\n"
          ]
        }
      ],
      "source": [
        "# Instalación de la librería de pymoo\n",
        "!pip install pymoo"
      ]
    },
    {
      "cell_type": "code",
      "execution_count": null,
      "metadata": {
        "colab": {
          "base_uri": "https://localhost:8080/",
          "height": 430
        },
        "id": "A6ikgcWrW1QU",
        "outputId": "9553869c-edc0-46a6-bee3-9b2132b578af"
      },
      "outputs": [
        {
          "output_type": "display_data",
          "data": {
            "text/plain": [
              "<Figure size 640x480 with 1 Axes>"
            ],
            "image/png": "[encoded data removed]"
          },
          "metadata": {}
        }
      ],
      "source": [
        "# Visualización de la forma del frente de Pareto de la función ZDT2\n",
        "from pymoo.problems import get_problem\n",
        "from pymoo.util.plotting import plot\n",
        "\n",
        "problem = get_problem(\"zdt2\")\n",
        "plot(problem.pareto_front(), no_fill=True)"
      ]
    },
    {
      "cell_type": "code",
      "execution_count": null,
      "metadata": {
        "colab": {
          "base_uri": "https://localhost:8080/",
          "height": 562
        },
        "id": "Ai3AwWNEXMhD",
        "outputId": "82194841-99c3-496e-d289-12af1b37b59b"
      },
      "outputs": [
        {
          "output_type": "execute_result",
          "data": {
            "text/plain": [
              "<pymoo.visualization.scatter.Scatter at 0x7c7968259330>"
            ]
          },
          "metadata": {},
          "execution_count": 3
        },
        {
          "output_type": "display_data",
          "data": {
            "text/plain": [
              "<Figure size 800x600 with 1 Axes>"
            ],
            "image/png": "[encoded data removed]"
          },
          "metadata": {}
        }
      ],
      "source": [
        "# Usando el algoritmo NSGA-II de la librería pymoo para resolver el ZDT2\n",
        "from pymoo.algorithms.moo.nsga2 import NSGA2\n",
        "from pymoo.problems import get_problem\n",
        "from pymoo.optimize import minimize\n",
        "from pymoo.visualization.scatter import Scatter\n",
        "\n",
        "problem = get_problem(\"zdt2\")\n",
        "\n",
        "algorithm = NSGA2(pop_size=100)\n",
        "\n",
        "res = minimize(problem,\n",
        "               algorithm,\n",
        "               ('n_gen', 200),\n",
        "               seed=1,\n",
        "               verbose=False)\n",
        "\n",
        "plot = Scatter()\n",
        "plot.add(problem.pareto_front(), plot_type=\"line\", color=\"black\", alpha=0.7)\n",
        "plot.add(res.F, facecolor=\"none\", edgecolor=\"red\")\n",
        "plot.show()"
      ]
    },
    {
      "cell_type": "code",
      "execution_count": null,
      "metadata": {
        "id": "VjOFBbTvX355"
      },
      "outputs": [],
      "source": [
        "# Definiendo una versión personalizada del ZDT2\n",
        "import numpy as np\n",
        "from pymoo.core.problem import Problem\n",
        "\n",
        "class ZDT2(Problem):\n",
        "  def __init__(self):\n",
        "    super().__init__(n_var=10, n_obj=2, n_constr=0, xl=0, xu=1, type_var=float)\n",
        "\n",
        "  def _evaluate(self, X, out, *args, **kwargs):\n",
        "    f1 = X[:, 0]\n",
        "    g = 1 + 9/len(X[0]) * np.nansum(X[:, 1:], axis=1)\n",
        "    f2 = 1 - np.power((f1/g), 2)\n",
        "\n",
        "    out[\"F\"] = np.column_stack([f1, f2])\n",
        "\n",
        "  def _calc_pareto_front(self, n_pareto_points=100):\n",
        "    x = np.linspace(0, 1, n_pareto_points)\n",
        "    return np.array([x, 1 - np.power(x, 2)]).T"
      ]
    },
    {
      "cell_type": "code",
      "execution_count": null,
      "metadata": {
        "colab": {
          "base_uri": "https://localhost:8080/",
          "height": 562
        },
        "id": "vQBsJcsXY6bM",
        "outputId": "cb02ba3b-0f13-4559-a11a-a0391b842c4a"
      },
      "outputs": [
        {
          "output_type": "execute_result",
          "data": {
            "text/plain": [
              "<pymoo.visualization.scatter.Scatter at 0x7c7979d16f80>"
            ]
          },
          "metadata": {},
          "execution_count": 5
        },
        {
          "output_type": "display_data",
          "data": {
            "text/plain": [
              "<Figure size 800x600 with 1 Axes>"
            ],
            "image/png": "[encoded data removed]"
          },
          "metadata": {}
        }
      ],
      "source": [
        "algorithm = NSGA2(pop_size=100)\n",
        "\n",
        "res = minimize(ZDT2(),\n",
        "               algorithm,\n",
        "               ('n_gen', 200),\n",
        "               seed=1,\n",
        "               verbose=False)\n",
        "plot = Scatter()\n",
        "plot.add(problem.pareto_front(), plot_type=\"line\", color=\"black\", alpha=0.7)\n",
        "plot.add(res.F, facecolor=\"none\", edgecolor=\"red\")\n",
        "plot.show()"
      ]
    },
    {
      "cell_type": "markdown",
      "metadata": {
        "id": "7JgnFd63ZtFT"
      },
      "source": [
        "# Ejercicio 2:\n",
        "\n",
        "**Objetivo:** Familiarizarse con pytorch\n",
        "\n",
        "Implementar un modelo de CNN usando pytorch para la clasificación de la base de datos mnist"
      ]
    },
    {
      "cell_type": "markdown",
      "metadata": {
        "id": "Rm93BKYEbELP"
      },
      "source": [
        "# **MNIST**\n",
        "\n",
        "El MNIST (Modified National Institute of Standards and Technology) es una base de datos de imágenes que se utiliza ampliamente para entrenar y evaluar modelos de aprendizaje automático, especialmente en el campo de la visión por computadora. Contiene imágenes de dígitos manuscritos del 0 al 9 y se ha convertido en un conjunto de referencia para experimentar con algoritmos de clasificación de imágenes.\n",
        "\n",
        "Características de la base de datos:\n",
        "\n",
        "- **Imágenes:** Cada imagen es en escala de grises y tiene un tamaño de 28x28 píxeles.\n",
        "\n",
        "- **Etiquetas:** Cada imagen está etiquetada con el dígito que representa (del 0 al 9).\n",
        "\n",
        "- **Cantidad de datos:** El conjunto de entrenamiento contiene 60,000 imágenes y el conjunto de prueba tiene 10,000 imágenes.\n",
        "\n",
        "- **Propósito:** El MNIST se usa para tareas de clasificación supervisada, donde el objetivo es entrenar un modelo para identificar correctamente los dígitos."
      ]
    },
    {
      "cell_type": "code",
      "execution_count": null,
      "metadata": {
        "colab": {
          "base_uri": "https://localhost:8080/",
          "height": 1000
        },
        "id": "w90c8UQ1bpJ-",
        "outputId": "e4ed3348-f546-47b7-e507-519e1332aeac"
      },
      "outputs": [
        {
          "output_type": "stream",
          "name": "stdout",
          "text": [
            "Downloading http://yann.lecun.com/exdb/mnist/train-images-idx3-ubyte.gz\n",
            "Failed to download (trying next):\n",
            "<urlopen error [SSL: CERTIFICATE_VERIFY_FAILED] certificate verify failed: certificate has expired (_ssl.c:1007)>\n",
            "\n",
            "Downloading https://ossci-datasets.s3.amazonaws.com/mnist/train-images-idx3-ubyte.gz\n",
            "Downloading https://ossci-datasets.s3.amazonaws.com/mnist/train-images-idx3-ubyte.gz to ./data/MNIST/raw/train-images-idx3-ubyte.gz\n"
          ]
        },
        {
          "output_type": "stream",
          "name": "stderr",
          "text": [
            "100%|██████████| 9912422/9912422 [00:00<00:00, 217843821.85it/s]\n"
          ]
        },
        {
          "output_type": "stream",
          "name": "stdout",
          "text": [
            "Extracting ./data/MNIST/raw/train-images-idx3-ubyte.gz to ./data/MNIST/raw\n",
            "\n",
            "Downloading http://yann.lecun.com/exdb/mnist/train-labels-idx1-ubyte.gz\n",
            "Failed to download (trying next):\n",
            "<urlopen error [SSL: CERTIFICATE_VERIFY_FAILED] certificate verify failed: certificate has expired (_ssl.c:1007)>\n",
            "\n",
            "Downloading https://ossci-datasets.s3.amazonaws.com/mnist/train-labels-idx1-ubyte.gz\n",
            "Downloading https://ossci-datasets.s3.amazonaws.com/mnist/train-labels-idx1-ubyte.gz to ./data/MNIST/raw/train-labels-idx1-ubyte.gz\n"
          ]
        },
        {
          "output_type": "stream",
          "name": "stderr",
          "text": [
            "100%|██████████| 28881/28881 [00:00<00:00, 19531714.58it/s]"
          ]
        },
        {
          "output_type": "stream",
          "name": "stdout",
          "text": [
            "Extracting ./data/MNIST/raw/train-labels-idx1-ubyte.gz to ./data/MNIST/raw\n",
            "\n",
            "Downloading http://yann.lecun.com/exdb/mnist/t10k-images-idx3-ubyte.gz\n"
          ]
        },
        {
          "output_type": "stream",
          "name": "stderr",
          "text": [
            "\n"
          ]
        },
        {
          "output_type": "stream",
          "name": "stdout",
          "text": [
            "Failed to download (trying next):\n",
            "<urlopen error [SSL: CERTIFICATE_VERIFY_FAILED] certificate verify failed: certificate has expired (_ssl.c:1007)>\n",
            "\n",
            "Downloading https://ossci-datasets.s3.amazonaws.com/mnist/t10k-images-idx3-ubyte.gz\n",
            "Downloading https://ossci-datasets.s3.amazonaws.com/mnist/t10k-images-idx3-ubyte.gz to ./data/MNIST/raw/t10k-images-idx3-ubyte.gz\n"
          ]
        },
        {
          "output_type": "stream",
          "name": "stderr",
          "text": [
            "100%|██████████| 1648877/1648877 [00:00<00:00, 99782014.09it/s]\n"
          ]
        },
        {
          "output_type": "stream",
          "name": "stdout",
          "text": [
            "Extracting ./data/MNIST/raw/t10k-images-idx3-ubyte.gz to ./data/MNIST/raw\n",
            "\n",
            "Downloading http://yann.lecun.com/exdb/mnist/t10k-labels-idx1-ubyte.gz\n",
            "Failed to download (trying next):\n",
            "<urlopen error [SSL: CERTIFICATE_VERIFY_FAILED] certificate verify failed: certificate has expired (_ssl.c:1007)>\n",
            "\n",
            "Downloading https://ossci-datasets.s3.amazonaws.com/mnist/t10k-labels-idx1-ubyte.gz\n",
            "Downloading https://ossci-datasets.s3.amazonaws.com/mnist/t10k-labels-idx1-ubyte.gz to ./data/MNIST/raw/t10k-labels-idx1-ubyte.gz\n"
          ]
        },
        {
          "output_type": "stream",
          "name": "stderr",
          "text": [
            "100%|██████████| 4542/4542 [00:00<00:00, 7769383.67it/s]"
          ]
        },
        {
          "output_type": "stream",
          "name": "stdout",
          "text": [
            "Extracting ./data/MNIST/raw/t10k-labels-idx1-ubyte.gz to ./data/MNIST/raw\n",
            "\n"
          ]
        },
        {
          "output_type": "stream",
          "name": "stderr",
          "text": [
            "\n"
          ]
        },
        {
          "output_type": "display_data",
          "data": {
            "text/plain": [
              "<Figure size 1000x500 with 10 Axes>"
            ],
            "image/png": "[encoded data removed]"
          },
          "metadata": {}
        }
      ],
      "source": [
        "import torch\n",
        "import torchvision\n",
        "import torchvision.transforms as transforms\n",
        "from torch.utils.data import random_split, DataLoader\n",
        "import matplotlib.pyplot as plt\n",
        "\n",
        "# Transformación: convertir las imágenes a tensores\n",
        "transform = transforms.Compose([transforms.ToTensor()])\n",
        "\n",
        "# Descargar y cargar el conjunto de entrenamiento\n",
        "trainset = torchvision.datasets.MNIST(root='./data', train=True, download=True, transform=transform)\n",
        "trainloader = DataLoader(trainset, batch_size=1, shuffle=True)\n",
        "\n",
        "# Diccionario para almacenar un ejemplo de cada clase (0 a 9)\n",
        "examples = {}\n",
        "\n",
        "# Recorrer el dataset para encontrar un ejemplo de cada clase\n",
        "for image, label in trainloader:\n",
        "    label = label.item()\n",
        "    if label not in examples:\n",
        "        examples[label] = image\n",
        "    if len(examples) == 10:  # Cuando tengamos un ejemplo de cada clase, rompemos el bucle\n",
        "        break\n",
        "\n",
        "# Función para mostrar las imágenes\n",
        "def show_examples(examples):\n",
        "    plt.figure(figsize=(10, 5))\n",
        "    for i in range(10):\n",
        "        plt.subplot(2, 5, i + 1)\n",
        "        plt.imshow(examples[i].squeeze(), cmap='gray')\n",
        "        plt.title(f'Clase: {i}')\n",
        "        plt.axis('off')\n",
        "    plt.tight_layout()\n",
        "    plt.show()\n",
        "\n",
        "# Mostrar los ejemplos\n",
        "show_examples(examples)"
      ]
    },
    {
      "cell_type": "markdown",
      "metadata": {
        "id": "dB6z9mJDb6Yx"
      },
      "source": [
        "# **¿Qué es PyTorch?**\n",
        "\n",
        "yTorch es una biblioteca de código abierto desarrollada por Facebook AI Research (FAIR) para el aprendizaje profundo (deep learning) y el cálculo numérico basado en tensores.\n",
        "\n",
        "Características clave de PyTorch:\n",
        "- **Tensor computation (cálculo con tensores):**\n",
        "PyTorch maneja tensores, que son estructuras de datos similares a matrices multidimensionales.\n",
        "\n",
        "- **Dynamic Computational Graph (gráfico computacional dinámico):**\n",
        "PyTorch construye el gráfico de cálculo dinámicamente en tiempo de ejecución. Esto significa que el gráfico se genera sobre la marcha y puede ser modificado en cada iteración, lo que otorga una gran flexibilidad al diseñar y depurar modelos.\n",
        "\n",
        "- **Compatibilidad con redes neuronales (Neural Networks):**\n",
        "PyTorch proporciona el módulo torch.nn para construir y entrenar redes neuronales. Este módulo facilita la creación de arquitecturas de redes profundas, como redes convolucionales (CNN), redes recurrentes (RNN) y arquitecturas más avanzadas.\n",
        "\n",
        "- **Ecosistema robusto:**\n",
        "PyTorch cuenta con un ecosistema en expansión, que incluye herramientas adicionales como TorchVision (para visión por computadora), TorchText (para procesamiento de lenguaje natural), y TorchAudio (para procesamiento de audio).\n",
        "\n",
        "# **¿Por qué usar PyTorch?**\n",
        "\n",
        "- **Fácil de aprender y usar:** Su sintaxis es más intuitiva y similar a Python, lo que lo hace accesible tanto para principiantes como para expertos.\n",
        "\n",
        "- **Ideal para investigación:** Debido a su naturaleza flexible y su enfoque en gráficos computacionales dinámicos, es perfecto para la investigación en aprendizaje profundo y la creación de modelos experimentales.\n",
        "\n",
        "- **Cálculos en GPU:** PyTorch facilita el uso de GPUs para acelerar el cálculo, lo que permite a los usuarios ejecutar redes neuronales y operaciones matemáticas de manera eficiente en hardware avanzado."
      ]
    },
    {
      "cell_type": "code",
      "execution_count": null,
      "metadata": {
        "colab": {
          "base_uri": "https://localhost:8080/"
        },
        "id": "C2RJQD3Qb_Vl",
        "outputId": "37c919e5-8c6c-403a-c44e-785e24e4cf4b"
      },
      "outputs": [
        {
          "output_type": "stream",
          "name": "stdout",
          "text": [
            "SimpleCNN(\n",
            "  (conv1): Conv2d(1, 32, kernel_size=(3, 3), stride=(1, 1), padding=(1, 1))\n",
            "  (bn1): BatchNorm2d(32, eps=1e-05, momentum=0.1, affine=True, track_running_stats=True)\n",
            "  (conv2): Conv2d(32, 64, kernel_size=(3, 3), stride=(1, 1), padding=(1, 1))\n",
            "  (bn2): BatchNorm2d(64, eps=1e-05, momentum=0.1, affine=True, track_running_stats=True)\n",
            "  (conv_skip): Conv2d(32, 64, kernel_size=(1, 1), stride=(1, 1))\n",
            "  (conv3): Conv2d(64, 128, kernel_size=(3, 3), stride=(1, 1), padding=(1, 1))\n",
            "  (bn3): BatchNorm2d(128, eps=1e-05, momentum=0.1, affine=True, track_running_stats=True)\n",
            "  (fc1): Linear(in_features=1152, out_features=256, bias=True)\n",
            "  (fc2): Linear(in_features=256, out_features=10, bias=True)\n",
            "  (pool): MaxPool2d(kernel_size=2, stride=2, padding=0, dilation=1, ceil_mode=False)\n",
            ")\n",
            "Output shape: torch.Size([1, 10])\n"
          ]
        }
      ],
      "source": [
        "import torch.nn as nn\n",
        "import torch.nn.functional as F\n",
        "\n",
        "class SimpleCNN(nn.Module):\n",
        "    def __init__(self):\n",
        "        super(SimpleCNN, self).__init__()\n",
        "        # Primera capa convolucional\n",
        "        self.conv1 = nn.Conv2d(in_channels=1, out_channels=32, kernel_size=3, padding=1)\n",
        "        self.bn1 = nn.BatchNorm2d(32)\n",
        "\n",
        "        # Segunda capa convolucional\n",
        "        self.conv2 = nn.Conv2d(in_channels=32, out_channels=64, kernel_size=3, padding=1)\n",
        "        self.bn2 = nn.BatchNorm2d(64)\n",
        "\n",
        "        # Capa de skip connection\n",
        "        self.conv_skip = nn.Conv2d(in_channels=32, out_channels=64, kernel_size=1)\n",
        "\n",
        "        # Tercera capa convolucional\n",
        "        self.conv3 = nn.Conv2d(in_channels=64, out_channels=128, kernel_size=3, padding=1)\n",
        "        self.bn3 = nn.BatchNorm2d(128)\n",
        "\n",
        "        # Capas totalmente conectadas\n",
        "        self.fc1 = nn.Linear(128 * 3 * 3, 256)\n",
        "        self.fc2 = nn.Linear(256, 10)\n",
        "\n",
        "        # Max pooling layer\n",
        "        self.pool = nn.MaxPool2d(2, 2)\n",
        "\n",
        "    def forward(self, x):\n",
        "        out1 = F.relu(self.bn1(self.conv1(x)))\n",
        "\n",
        "        out1_pooled = self.pool(out1)\n",
        "\n",
        "        out2 = F.relu(self.bn2(self.conv2(out1_pooled)))\n",
        "\n",
        "        skip = self.conv_skip(out1_pooled)\n",
        "\n",
        "        out2 = out2 + skip\n",
        "\n",
        "        out2_pooled = self.pool(out2)\n",
        "\n",
        "        out3 = F.relu(self.bn3(self.conv3(out2_pooled)))\n",
        "\n",
        "        out3_pooled = self.pool(out3)\n",
        "\n",
        "        out3_flattened = out3_pooled.view(out3_pooled.size(0), -1)\n",
        "\n",
        "        # Capas totalmente conectadas\n",
        "        out4 = F.relu(self.fc1(out3_flattened))\n",
        "        out5 = self.fc2(out4)\n",
        "\n",
        "        return out5\n",
        "\n",
        "# Inicializamos la red\n",
        "model = SimpleCNN()\n",
        "print(model)\n",
        "\n",
        "# Probar con una entrada de ejemplo (batch_size=1, 1 canal, 28x28)\n",
        "input_tensor = torch.randn(1, 1, 28, 28)\n",
        "output = model(input_tensor)\n",
        "\n",
        "print(\"Output shape:\", output.shape)  # La forma de salida será (1, 128, 7, 7)\n"
      ]
    },
    {
      "cell_type": "code",
      "execution_count": null,
      "metadata": {
        "id": "qLUVZe_sdWAC"
      },
      "outputs": [],
      "source": [
        "import torch.optim as optim\n",
        "\n",
        "BATCH_SIZE = 64\n",
        "trainloader = torch.utils.data.DataLoader(trainset, batch_size=BATCH_SIZE, shuffle=True)\n",
        "\n",
        "device = torch.device('cuda' if torch.cuda.is_available() else 'cpu')\n",
        "model.to(device)\n",
        "\n",
        "# Training function\n",
        "def train_model(model, trainloader, num_epochs=5):\n",
        "  criterion = nn.CrossEntropyLoss()\n",
        "  optimizer = optim.Adam(model.parameters(), lr=0.001)\n",
        "  model.train()\n",
        "  for epoch in range(num_epochs):\n",
        "      running_loss = 0.0\n",
        "      for inputs, labels in trainloader:\n",
        "          inputs, labels = inputs.to(device), labels.to(device)\n",
        "\n",
        "          # Zero the parameter gradients\n",
        "          optimizer.zero_grad()\n",
        "\n",
        "          # Forward pass\n",
        "          outputs = model(inputs)\n",
        "          loss = criterion(outputs, labels)\n",
        "\n",
        "          # Backward pass and optimize\n",
        "          loss.backward()\n",
        "          optimizer.step()\n",
        "\n",
        "          # Print loss statistics\n",
        "          running_loss += loss.item()\n",
        "      print(f'Epoch [{epoch+1}/{num_epochs}], Loss: {running_loss/len(trainloader):.4f}')\n",
        "  print('Finished Training')\n",
        "  return model\n",
        "\n",
        "#model = train_model(model, trainloader, num_epochs=5)"
      ]
    },
    {
      "cell_type": "code",
      "source": [
        "# Clasificar\n",
        "testset = torchvision.datasets.MNIST(root='./data', train=False, download=True, transform=transform)\n",
        "testloader = DataLoader(testset, batch_size=1000, shuffle=False)\n",
        "# Testing function\n",
        "def test_model(model, testloader):\n",
        "    model.eval()\n",
        "    correct = 0\n",
        "    total = 0\n",
        "    with torch.no_grad():\n",
        "        for inputs, labels in testloader:\n",
        "            inputs, labels = inputs.to(device), labels.to(device)\n",
        "            outputs = model(inputs)\n",
        "            _, predicted = torch.max(outputs.data, 1)\n",
        "            total += labels.size(0)\n",
        "            correct += (predicted == labels).sum().item()\n",
        "\n",
        "    print(f'Accuracy on test set: {100 * correct / total:.2f}%')\n",
        "\n",
        "#test_model(model, testloader)"
      ],
      "metadata": {
        "id": "m-MA-5BmXT7B"
      },
      "execution_count": null,
      "outputs": []
    },
    {
      "cell_type": "markdown",
      "source": [
        "## Ejercicio 3:\n",
        "\n",
        "**Objetivo:** Implementar un método de búsqueda de arquitecturas neuronales con algoritmos evolutivos.\n",
        "\n",
        "En el diseño, se definirá:\n",
        "\n",
        "- Cómo codificar las arquitecturas.\n",
        "- Cómo realizar los operadores evolutivos para generar nuevas arquitecturas.\n",
        "- Cómo medir la calidad de la arquitectura\n"
      ],
      "metadata": {
        "id": "irZDU7W4d7qI"
      }
    },
    {
      "cell_type": "code",
      "source": [
        "from pymoo.operators.mutation.bitflip import BitflipMutation\n",
        "from pymoo.operators.crossover.ux import UniformCrossover\n",
        "from pymoo.operators.sampling.rnd import BinaryRandomSampling\n",
        "\n",
        "# Constantes\n",
        "NUM_NODES = 5\n",
        "NUM_OPS = 4\n",
        "INPUT_SIZE = 28\n",
        "BATCH_SIZE = 64\n",
        "NUM_CLASSES = 10\n",
        "\n",
        "# Definir operaciones\n",
        "OPS = [\n",
        "    lambda in_c, out_c: nn.Conv2d(in_c, out_c, kernel_size=3, padding=1),  # Conv 3x3\n",
        "    lambda in_c, out_c: nn.Conv2d(in_c, out_c, kernel_size=1),  # Conv 1x1\n",
        "    lambda in_c, out_c: nn.BatchNorm2d(in_c),  # BatchNorm\n",
        "    lambda in_c, out_c: nn.MaxPool2d(kernel_size=2, stride=2),  # Max Pooling 2x2\n",
        "]\n",
        "\n",
        "# Decodificar la cadena binaria dentro de una arquitectura\n",
        "def decode_architecture(binary_string, in_channels=1, out_channels=NUM_CLASSES):\n",
        "    layers = []\n",
        "    out_c = np.random.choice([16,32,64,128])\n",
        "    layers.append(OPS[0](in_channels, out_c))\n",
        "    in_c = out_c\n",
        "    current_size = INPUT_SIZE\n",
        "\n",
        "    for i in range(NUM_NODES):\n",
        "        out_c = np.random.choice([16,32,64,128])\n",
        "        active_ops = [idx for idx, op in enumerate(binary_string[i*NUM_OPS:(i+1)*NUM_OPS]) if op == 1]\n",
        "\n",
        "        if active_ops:\n",
        "            for op_idx in active_ops:\n",
        "              if op_idx == 3:  # Si se selecciona una capa de Pooling\n",
        "                if (current_size // 2) >= 1:\n",
        "                  current_size //= 2\n",
        "                  layers.append(OPS[op_idx](in_c, out_c))\n",
        "              else:\n",
        "                layers.append(OPS[op_idx](in_c, out_c))\n",
        "              if (op_idx != 2) and (op_idx != 3):\n",
        "                in_c = out_c\n",
        "\n",
        "    # Añadir una capa totalmente conectada al final\n",
        "    layers.append(nn.Flatten())\n",
        "    layers.append(nn.Linear(in_c * current_size * current_size, out_channels))\n",
        "    model = nn.Sequential(*layers)\n",
        "\n",
        "    return model\n",
        "\n",
        "# Entrena la arquitectura\n",
        "\n",
        "def train_architecture(model, trainloader):\n",
        "  criterion = nn.CrossEntropyLoss()\n",
        "  optimizer = optim.Adam(model.parameters(), lr=0.001)\n",
        "\n",
        "  model.train()\n",
        "  running_loss = 0.0\n",
        "  for i, (inputs, labels) in enumerate(trainloader):\n",
        "    if i > 25:  # Se limita a unas cuantas iteraciones para acelerar\n",
        "        break\n",
        "    inputs, labels = inputs.to(device), labels.to(device)\n",
        "    optimizer.zero_grad()\n",
        "    outputs = model(inputs)\n",
        "    loss = criterion(outputs, labels)\n",
        "    loss.backward()\n",
        "    optimizer.step()\n",
        "    running_loss += loss.item()\n",
        "\n",
        "  return model\n",
        "\n",
        "# Evalua la arquitectura\n",
        "def evaluate_architecture(architecture):\n",
        "    device = torch.device('cuda' if torch.cuda.is_available() else 'cpu')\n",
        "    model = architecture.to(device)\n",
        "\n",
        "    # Partir en conjunto de entrenamiento y validación\n",
        "    train_size = int(0.5 * len(trainset))  # 50% para training\n",
        "    val_size = int(0.5 * len(trainset))    # 50% para validation\n",
        "\n",
        "    train_data, val_data = random_split(trainset, [train_size, val_size])\n",
        "\n",
        "    # Dataloaders\n",
        "    train_loader = DataLoader(train_data, batch_size=BATCH_SIZE, shuffle=True)\n",
        "    val_loader = DataLoader(val_data, batch_size=BATCH_SIZE, shuffle=False)\n",
        "\n",
        "    model = train_architecture(model, train_loader)\n",
        "\n",
        "    # Calcular la precisión aproximada y el tamaño del modelo\n",
        "\n",
        "    model.eval()  # Establecer el modelo en modo de evaluación\n",
        "    correct = 0\n",
        "    total = 0\n",
        "\n",
        "    with torch.no_grad():\n",
        "        for images, labels in val_loader:\n",
        "            images, labels = images.to(device), labels.to(device)\n",
        "            outputs = model(images)\n",
        "            _, predicted = torch.max(outputs, 1)\n",
        "            total += labels.size(0)\n",
        "            correct += (predicted == labels).sum().item()\n",
        "\n",
        "    val_acc = correct / total\n",
        "\n",
        "    # Calculando la complejidad del modelo\n",
        "    model_size = sum(p.numel() for p in model.parameters() if p.requires_grad)\n",
        "\n",
        "    return ((val_acc)), (model_size / 5e4)\n",
        "\n",
        "# Define the NSGA-Net problem using pymoo\n",
        "class NSGANetProblem(Problem):\n",
        "    def __init__(self):\n",
        "        super().__init__(n_var=NUM_NODES * NUM_OPS, n_obj=2, n_constr=0, xl=0, xu=1, type_var=np.int32)\n",
        "\n",
        "    def _evaluate(self, X, out, *args, **kwargs):\n",
        "        F = np.zeros((X.shape[0], 2))  # Two objectives: accuracy and model size\n",
        "\n",
        "        for i, binary_string in enumerate(X):\n",
        "            binary_string = binary_string.astype(int)  # Convert binary string to int\n",
        "            model = decode_architecture(binary_string)\n",
        "            accuracy, model_size = evaluate_architecture(model)\n",
        "\n",
        "            F[i, 0] = -accuracy  # We want to maximize accuracy (so minimize -accuracy)\n",
        "            F[i, 1] = model_size  # We want to minimize model size\n",
        "\n",
        "        out[\"F\"] = F\n",
        "\n",
        "# Set up the NSGA-II algorithm with pymoo\n",
        "problem = NSGANetProblem()\n",
        "\n",
        "algorithm = NSGA2(\n",
        "    pop_size=10,  # Population size\n",
        "    sampling=BinaryRandomSampling(),\n",
        "    crossover=UniformCrossover(prob=0.9),\n",
        "    mutation=BitflipMutation(prob=0.1),\n",
        "    eliminate_duplicates=True\n",
        ")\n",
        "\n",
        "# Perform the optimization\n",
        "res = minimize(\n",
        "    problem,\n",
        "    algorithm,\n",
        "    ('n_gen', 5),\n",
        "    seed=1,\n",
        "    save_history=True,\n",
        "    verbose=True\n",
        ")\n",
        "\n",
        "# Output the results\n",
        "print(f\"Best architectures: {res.X}\")\n",
        "print(f\"Objective values (accuracy, model size): {res.F}\")\n"
      ],
      "metadata": {
        "colab": {
          "base_uri": "https://localhost:8080/"
        },
        "id": "s_Gukaf2fUxp",
        "outputId": "5ba532d1-5003-476b-850a-a5937ce358c8"
      },
      "execution_count": null,
      "outputs": [
        {
          "output_type": "stream",
          "name": "stdout",
          "text": [
            "==========================================================\n",
            "n_gen  |  n_eval  | n_nds  |      eps      |   indicator  \n",
            "==========================================================\n",
            "     1 |       10 |      5 |             - |             -\n",
            "     2 |       20 |      6 |  0.0253380596 |         ideal\n",
            "     3 |       30 |      7 |  0.0181609195 |         ideal\n",
            "     4 |       40 |      6 |  0.0612470433 |             f\n",
            "     5 |       50 |      8 |  0.1997308727 |         nadir\n",
            "Best architectures: [[False False  True False False False  True False False False  True  True\n",
            "  False False False  True False False False  True]\n",
            " [ True False False  True  True False  True False False False  True False\n",
            "  False False  True  True False False  True  True]\n",
            " [False False False False False False  True False False False  True  True\n",
            "  False False  True False False  True False False]\n",
            " [False  True False False False False  True False False False  True  True\n",
            "  False False False False  True  True False  True]\n",
            " [False False  True False  True False  True False False False  True  True\n",
            "  False False False  True False False False  True]\n",
            " [False False False  True False False  True False False False  True  True\n",
            "  False False False False False False False  True]\n",
            " [ True  True False  True False False False False False False False  True\n",
            "  False False  True False False  True False False]\n",
            " [ True False  True  True  True False  True False False False  True False\n",
            "  False False False  True False False  True  True]]\n",
            "Objective values (accuracy, model size): [[-0.3069      0.03412   ]\n",
            " [-0.44446667  0.12756   ]\n",
            " [-0.83453333  0.6482    ]\n",
            " [-0.79076667  0.21876   ]\n",
            " [-0.64396667  0.157     ]\n",
            " [-0.4127      0.06676   ]\n",
            " [-0.8883      1.69876   ]\n",
            " [-0.87666667  1.01236   ]]\n"
          ]
        }
      ]
    },
    {
      "cell_type": "markdown",
      "source": [],
      "metadata": {
        "id": "A-3uxFtEhLFi"
      }
    },
    {
      "cell_type": "code",
      "source": [
        "model = decode_architecture(res.X[-1], in_channels=1, out_channels=NUM_CLASSES)\n",
        "print(model)\n",
        "trainloader = torch.utils.data.DataLoader(trainset, batch_size=BATCH_SIZE, shuffle=True)\n",
        "\n",
        "model = train_model(model, trainloader, num_epochs=5)\n",
        "test_model(model, testloader)"
      ],
      "metadata": {
        "colab": {
          "base_uri": "https://localhost:8080/"
        },
        "id": "s4BZXJgyZ8lb",
        "outputId": "b6acaae7-cfe2-46ea-9f1f-61f278b605ba"
      },
      "execution_count": null,
      "outputs": [
        {
          "output_type": "stream",
          "name": "stdout",
          "text": [
            "Sequential(\n",
            "  (0): Conv2d(1, 32, kernel_size=(3, 3), stride=(1, 1), padding=(1, 1))\n",
            "  (1): Conv2d(32, 128, kernel_size=(3, 3), stride=(1, 1), padding=(1, 1))\n",
            "  (2): BatchNorm2d(128, eps=1e-05, momentum=0.1, affine=True, track_running_stats=True)\n",
            "  (3): MaxPool2d(kernel_size=2, stride=2, padding=0, dilation=1, ceil_mode=False)\n",
            "  (4): Conv2d(128, 128, kernel_size=(3, 3), stride=(1, 1), padding=(1, 1))\n",
            "  (5): BatchNorm2d(128, eps=1e-05, momentum=0.1, affine=True, track_running_stats=True)\n",
            "  (6): BatchNorm2d(128, eps=1e-05, momentum=0.1, affine=True, track_running_stats=True)\n",
            "  (7): MaxPool2d(kernel_size=2, stride=2, padding=0, dilation=1, ceil_mode=False)\n",
            "  (8): BatchNorm2d(128, eps=1e-05, momentum=0.1, affine=True, track_running_stats=True)\n",
            "  (9): MaxPool2d(kernel_size=2, stride=2, padding=0, dilation=1, ceil_mode=False)\n",
            "  (10): Flatten(start_dim=1, end_dim=-1)\n",
            "  (11): Linear(in_features=1152, out_features=10, bias=True)\n",
            ")\n",
            "Epoch [1/5], Loss: 0.1055\n",
            "Epoch [2/5], Loss: 0.0437\n",
            "Epoch [3/5], Loss: 0.0325\n",
            "Epoch [4/5], Loss: 0.0252\n",
            "Epoch [5/5], Loss: 0.0195\n",
            "Finished Training\n",
            "Accuracy on test set: 98.75%\n"
          ]
        }
      ]
    }
  ],
  "metadata": {
    "colab": {
      "provenance": [],
      "gpuType": "T4"
    },
    "kernelspec": {
      "display_name": "Python 3",
      "name": "python3"
    },
    "language_info": {
      "name": "python"
    },
    "accelerator": "GPU"
  },
  "nbformat": 4,
  "nbformat_minor": 0
}